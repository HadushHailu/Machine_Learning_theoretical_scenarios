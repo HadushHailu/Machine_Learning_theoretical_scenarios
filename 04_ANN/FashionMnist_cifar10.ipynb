{
 "cells": [
  {
   "cell_type": "code",
   "execution_count": 2,
   "id": "aa8435a1-2ca7-4b0c-b08c-051640373c15",
   "metadata": {},
   "outputs": [
    {
     "name": "stderr",
     "output_type": "stream",
     "text": [
      "2024-05-06 08:23:46.007901: I tensorflow/tsl/cuda/cudart_stub.cc:28] Could not find cuda drivers on your machine, GPU will not be used.\n",
      "2024-05-06 08:23:46.507145: I tensorflow/tsl/cuda/cudart_stub.cc:28] Could not find cuda drivers on your machine, GPU will not be used.\n",
      "2024-05-06 08:23:46.508912: I tensorflow/core/platform/cpu_feature_guard.cc:182] This TensorFlow binary is optimized to use available CPU instructions in performance-critical operations.\n",
      "To enable the following instructions: AVX2 FMA, in other operations, rebuild TensorFlow with the appropriate compiler flags.\n",
      "2024-05-06 08:23:47.490886: W tensorflow/compiler/tf2tensorrt/utils/py_utils.cc:38] TF-TRT Warning: Could not find TensorRT\n"
     ]
    }
   ],
   "source": [
    "import tensorflow as tf\n",
    "from tensorflow.keras.datasets import fashion_mnist, cifar10\n",
    "from tensorflow.keras.utils import to_categorical\n",
    "\n",
    "def load_data(dataset):\n",
    "    if dataset == 'FashionMNIST':\n",
    "        (train_images, train_labels), (test_images, test_labels) = fashion_mnist.load_data()\n",
    "        train_images = train_images / 255.0\n",
    "        test_images = test_images / 255.0\n",
    "        train_images = train_images.reshape(train_images.shape[0], 28, 28, 1)\n",
    "        test_images = test_images.reshape(test_images.shape[0], 28, 28, 1)\n",
    "    elif dataset == 'CIFAR10':\n",
    "        (train_images, train_labels), (test_images, test_labels) = cifar10.load_data()\n",
    "        train_images = train_images / 255.0\n",
    "        test_images = test_images / 255.0\n",
    "\n",
    "    train_labels = to_categorical(train_labels, num_classes=10)\n",
    "    test_labels = to_categorical(test_labels, num_classes=10)\n",
    "\n",
    "    return (train_images, train_labels), (test_images, test_labels)"
   ]
  },
  {
   "cell_type": "code",
   "execution_count": 4,
   "id": "819b13b9-5123-427d-94aa-9a4c416232f0",
   "metadata": {},
   "outputs": [],
   "source": [
    "from tensorflow.keras.models import Sequential\n",
    "from tensorflow.keras.layers import Dense, Flatten, Conv2D, MaxPooling2D\n",
    "\n",
    "# Load data\n",
    "(train_images_fashion, train_labels_fashion), (test_images_fashion, test_labels_fashion) = load_data('FashionMNIST')\n",
    "(train_images_cifar, train_labels_cifar), (test_images_cifar, test_labels_cifar) = load_data('CIFAR10')"
   ]
  },
  {
   "cell_type": "code",
   "execution_count": 5,
   "id": "f8838766-f452-4c81-a2b1-edbcd466df04",
   "metadata": {},
   "outputs": [],
   "source": [
    "# Define model architecture for Fashion MNIST\n",
    "model_fashion = Sequential([\n",
    "    Conv2D(32, (3, 3), activation='relu', input_shape=(28, 28, 1)),\n",
    "    MaxPooling2D((2, 2)),\n",
    "    Flatten(),\n",
    "    Dense(128, activation='relu'),\n",
    "    Dense(10, activation='softmax')\n",
    "])\n",
    "\n",
    "# Define model architecture for CIFAR-10\n",
    "model_cifar = Sequential([\n",
    "    Conv2D(32, (3, 3), activation='relu', input_shape=(32, 32, 3)),\n",
    "    MaxPooling2D((2, 2)),\n",
    "    Flatten(),\n",
    "    Dense(128, activation='relu'),\n",
    "    Dense(10, activation='softmax')\n",
    "])\n",
    "\n",
    "# Compile models\n",
    "model_fashion.compile(optimizer='adam',\n",
    "                       loss='categorical_crossentropy',\n",
    "                       metrics=['accuracy'])\n",
    "\n",
    "model_cifar.compile(optimizer='adam',\n",
    "                     loss='categorical_crossentropy',\n",
    "                     metrics=['accuracy'])\n"
   ]
  },
  {
   "cell_type": "code",
   "execution_count": null,
   "id": "09dc229e-6035-4ec6-926e-60c27824ba7e",
   "metadata": {},
   "outputs": [
    {
     "name": "stdout",
     "output_type": "stream",
     "text": [
      "Epoch 1/5\n"
     ]
    },
    {
     "name": "stderr",
     "output_type": "stream",
     "text": [
      "2024-05-06 08:26:05.216212: W tensorflow/tsl/framework/cpu_allocator_impl.cc:83] Allocation of 188160000 exceeds 10% of free system memory.\n"
     ]
    },
    {
     "name": "stdout",
     "output_type": "stream",
     "text": [
      "1875/1875 [==============================] - 19s 10ms/step - loss: 0.3874 - accuracy: 0.8620\n",
      "Epoch 2/5\n",
      "1875/1875 [==============================] - 19s 10ms/step - loss: 0.2652 - accuracy: 0.9047\n",
      "Epoch 3/5\n",
      "1875/1875 [==============================] - 18s 9ms/step - loss: 0.2196 - accuracy: 0.9201\n",
      "Epoch 4/5\n",
      "1875/1875 [==============================] - 18s 10ms/step - loss: 0.1874 - accuracy: 0.9305\n",
      "Epoch 5/5\n",
      " 650/1875 [=========>....................] - ETA: 11s - loss: 0.1595 - accuracy: 0.9417"
     ]
    }
   ],
   "source": [
    "# Train models\n",
    "model_fashion.fit(train_images_fashion, train_labels_fashion, epochs=5, batch_size=32, verbose=1)\n",
    "# Evaluate models\n",
    "test_loss_fashion, test_acc_fashion = model_fashion.evaluate(test_images_fashion, test_labels_fashion, verbose=0)\n",
    "print(f'Fashion MNIST Test accuracy: {test_acc_fashion}')"
   ]
  },
  {
   "cell_type": "code",
   "execution_count": null,
   "id": "003df90c-e216-4acc-8b1c-19310b9d3c66",
   "metadata": {},
   "outputs": [],
   "source": [
    "model_cifar.fit(train_images_cifar, train_labels_cifar, epochs=5, batch_size=32, verbose=1)\n",
    "test_loss_cifar, test_acc_cifar = model_cifar.evaluate(test_images_cifar, test_labels_cifar, verbose=0)\n",
    "print(f'CIFAR-10 Test accuracy: {test_acc_cifar}')"
   ]
  }
 ],
 "metadata": {
  "kernelspec": {
   "display_name": "Python 3 (ipykernel)",
   "language": "python",
   "name": "python3"
  },
  "language_info": {
   "codemirror_mode": {
    "name": "ipython",
    "version": 3
   },
   "file_extension": ".py",
   "mimetype": "text/x-python",
   "name": "python",
   "nbconvert_exporter": "python",
   "pygments_lexer": "ipython3",
   "version": "3.8.10"
  }
 },
 "nbformat": 4,
 "nbformat_minor": 5
}
