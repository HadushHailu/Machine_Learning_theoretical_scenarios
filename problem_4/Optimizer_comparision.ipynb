{
 "cells": [
  {
   "cell_type": "code",
   "execution_count": null,
   "id": "91265b7e-11e2-40f7-87c7-58700ea850a8",
   "metadata": {},
   "outputs": [],
   "source": []
  }
 ],
 "metadata": {
  "kernelspec": {
   "display_name": "",
   "name": ""
  },
  "language_info": {
   "name": ""
  }
 },
 "nbformat": 4,
 "nbformat_minor": 5
}
