{
 "cells": [
  {
   "cell_type": "markdown",
   "id": "8192b8dc-f540-4b0e-b3fd-cebb37d5e7b0",
   "metadata": {},
   "source": [
    "## CNN"
   ]
  },
  {
   "cell_type": "code",
   "execution_count": 1,
   "id": "26cd7611-fb17-4675-ae7c-61068f1f71a2",
   "metadata": {},
   "outputs": [
    {
     "name": "stderr",
     "output_type": "stream",
     "text": [
      "2024-05-06 06:42:55.782045: I tensorflow/tsl/cuda/cudart_stub.cc:28] Could not find cuda drivers on your machine, GPU will not be used.\n",
      "2024-05-06 06:42:56.248706: I tensorflow/tsl/cuda/cudart_stub.cc:28] Could not find cuda drivers on your machine, GPU will not be used.\n",
      "2024-05-06 06:42:56.250710: I tensorflow/core/platform/cpu_feature_guard.cc:182] This TensorFlow binary is optimized to use available CPU instructions in performance-critical operations.\n",
      "To enable the following instructions: AVX2 FMA, in other operations, rebuild TensorFlow with the appropriate compiler flags.\n",
      "2024-05-06 06:42:57.147431: W tensorflow/compiler/tf2tensorrt/utils/py_utils.cc:38] TF-TRT Warning: Could not find TensorRT\n"
     ]
    }
   ],
   "source": [
    "import tensorflow as tf\n",
    "from tensorflow.keras import layers, models\n",
    "import matplotlib.pyplot as plt"
   ]
  },
  {
   "cell_type": "code",
   "execution_count": 2,
   "id": "fec202d3-a72d-4913-90a5-37c09d885254",
   "metadata": {},
   "outputs": [
    {
     "name": "stdout",
     "output_type": "stream",
     "text": [
      "Downloading data from https://storage.googleapis.com/tensorflow/tf-keras-datasets/mnist.npz\n",
      "11490434/11490434 [==============================] - 2s 0us/step\n"
     ]
    }
   ],
   "source": [
    "# Load the MNIST dataset\n",
    "mnist = tf.keras.datasets.mnist\n",
    "(x_train, y_train), (x_test, y_test) = mnist.load_data()\n",
    "x_train, x_test = x_train / 255.0, x_test / 255.0  # Normalize pixel values to be between 0 and 1\n",
    "\n",
    "# Reshape the data for convolutional layer input\n",
    "x_train = x_train.reshape(-1, 28, 28, 1)\n",
    "x_test = x_test.reshape(-1, 28, 28, 1)"
   ]
  },
  {
   "cell_type": "code",
   "execution_count": 3,
   "id": "b436d3fc-bc10-4563-8b92-c0a590ac411c",
   "metadata": {},
   "outputs": [],
   "source": [
    "# Define a function to create and compile a CNN model\n",
    "def create_cnn_model(filter_size=3, stride=1, padding='valid'):\n",
    "    model = models.Sequential()\n",
    "    model.add(layers.Conv2D(32, (filter_size, filter_size), strides=(stride, stride), padding=padding, activation='relu', input_shape=(28, 28, 1)))\n",
    "    model.add(layers.MaxPooling2D((2, 2)))\n",
    "    model.add(layers.Flatten())\n",
    "    model.add(layers.Dense(10, activation='softmax'))\n",
    "\n",
    "    model.compile(optimizer='adam', loss='sparse_categorical_crossentropy', metrics=['accuracy'])\n",
    "    return model"
   ]
  },
  {
   "cell_type": "code",
   "execution_count": 4,
   "id": "aa2a01f4-6ed5-4e05-9d51-1d945ca99ed4",
   "metadata": {},
   "outputs": [],
   "source": [
    "# Function to calculate the output size of a convolutional layer\n",
    "def calculate_output_size(input_size, filter_size, stride, padding):\n",
    "    if padding == 'valid':\n",
    "        output_size = (input_size - filter_size + 1) // stride\n",
    "    elif padding == 'same':\n",
    "        output_size = input_size // stride\n",
    "    else:\n",
    "        raise ValueError('Invalid padding type. Use \"valid\" or \"same\".')\n",
    "\n",
    "    return output_size"
   ]
  },
  {
   "cell_type": "code",
   "execution_count": 5,
   "id": "9e569aca-1ea4-4c1d-8b73-76d2034620ad",
   "metadata": {},
   "outputs": [
    {
     "name": "stdout",
     "output_type": "stream",
     "text": [
      "Filter Size: 3, Stride: 1, Padding: valid, Output Size: 26\n",
      "Filter Size: 3, Stride: 1, Padding: same, Output Size: 28\n",
      "Filter Size: 3, Stride: 2, Padding: valid, Output Size: 13\n",
      "Filter Size: 3, Stride: 2, Padding: same, Output Size: 14\n",
      "Filter Size: 5, Stride: 1, Padding: valid, Output Size: 24\n",
      "Filter Size: 5, Stride: 1, Padding: same, Output Size: 28\n",
      "Filter Size: 5, Stride: 2, Padding: valid, Output Size: 12\n",
      "Filter Size: 5, Stride: 2, Padding: same, Output Size: 14\n",
      "Filter Size: 7, Stride: 1, Padding: valid, Output Size: 22\n",
      "Filter Size: 7, Stride: 1, Padding: same, Output Size: 28\n",
      "Filter Size: 7, Stride: 2, Padding: valid, Output Size: 11\n",
      "Filter Size: 7, Stride: 2, Padding: same, Output Size: 14\n"
     ]
    }
   ],
   "source": [
    "# Input size\n",
    "input_size = 28\n",
    "\n",
    "# Experiment with different filter sizes, strides, and padding\n",
    "filter_sizes = [3, 5, 7]\n",
    "strides = [1, 2]\n",
    "paddings = ['valid', 'same']\n",
    "\n",
    "for filter_size in filter_sizes:\n",
    "    for stride in strides:\n",
    "        for padding in paddings:\n",
    "            output_size = calculate_output_size(input_size, filter_size, stride, padding)\n",
    "            print(f'Filter Size: {filter_size}, Stride: {stride}, Padding: {padding}, Output Size: {output_size}')"
   ]
  },
  {
   "cell_type": "code",
   "execution_count": null,
   "id": "7fea4520-01c0-4892-928b-b084e9289842",
   "metadata": {},
   "outputs": [],
   "source": []
  }
 ],
 "metadata": {
  "kernelspec": {
   "display_name": "Python 3 (ipykernel)",
   "language": "python",
   "name": "python3"
  },
  "language_info": {
   "codemirror_mode": {
    "name": "ipython",
    "version": 3
   },
   "file_extension": ".py",
   "mimetype": "text/x-python",
   "name": "python",
   "nbconvert_exporter": "python",
   "pygments_lexer": "ipython3",
   "version": "3.8.10"
  }
 },
 "nbformat": 4,
 "nbformat_minor": 5
}
